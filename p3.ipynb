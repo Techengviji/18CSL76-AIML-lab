{
 "cells": [
  {
   "cell_type": "code",
   "execution_count": 13,
   "id": "0f4efc55",
   "metadata": {},
   "outputs": [
    {
     "name": "stdout",
     "output_type": "stream",
     "text": [
      "-----EPOCH-- 1 starts--\n",
      "input:\n",
      " [[2. 9.]\n",
      " [1. 5.]\n",
      " [3. 6.]]\n",
      "actual output:\n",
      " [[0.92]\n",
      " [0.86]\n",
      " [0.89]]\n",
      "predicted output:\n",
      " [[0.86747848]\n",
      " [0.85730533]\n",
      " [0.86479586]]\n",
      "EPOCH_ 1 ends---\n",
      "-----EPOCH-- 2 starts--\n",
      "input:\n",
      " [[2. 9.]\n",
      " [1. 5.]\n",
      " [3. 6.]]\n",
      "actual output:\n",
      " [[0.92]\n",
      " [0.86]\n",
      " [0.89]]\n",
      "predicted output:\n",
      " [[0.86779079]\n",
      " [0.85762363]\n",
      " [0.86510869]]\n",
      "EPOCH_ 2 ends---\n",
      "input:\n",
      " [[2. 9.]\n",
      " [1. 5.]\n",
      " [3. 6.]]\n",
      "actual output:\n",
      " [[0.92]\n",
      " [0.86]\n",
      " [0.89]]\n",
      "predicted output:\n",
      " [[0.86779079]\n",
      " [0.85762363]\n",
      " [0.86510869]]\n"
     ]
    }
   ],
   "source": [
    "import numpy as np\n",
    "X=np.array(([2,9],[1,5],[3,6]),dtype=float)\n",
    "y=np.array(([92],[86],[89]),dtype=float)\n",
    "y=y/100\n",
    "def sigmoid(X):\n",
    "    return 1/(1+np.exp(-X))\n",
    "def derivatives_sigmoid(X):\n",
    "    return X*(1-X)\n",
    "epoch=2\n",
    "ir=0.1\n",
    "inputlayer_neurons=2\n",
    "hiddenlayer_neurons=3\n",
    "output_neurons=1\n",
    "wh=np.random.uniform(size=(inputlayer_neurons,hiddenlayer_neurons))\n",
    "bh=np.random.uniform(size=(1,hiddenlayer_neurons))\n",
    "wout=np.random.uniform(size=(hiddenlayer_neurons,output_neurons))\n",
    "bout=np.random.uniform(size=(1,output_neurons))\n",
    "for i in range(epoch):\n",
    "    hinp1=np.dot(X,wh)\n",
    "    hinp=hinp1+bh\n",
    "    hlayer_act=sigmoid(hinp)\n",
    "    outinp1=np.dot(hlayer_act,wout)\n",
    "    outinp=outinp1+bout\n",
    "    output=sigmoid(outinp)\n",
    "    EO=y-output\n",
    "    outgrad=derivatives_sigmoid(output)\n",
    "    d_output=EO*outgrad\n",
    "    EH=d_output.dot(wout.T)\n",
    "    hiddengrad=derivatives_sigmoid(hlayer_act)\n",
    "    d_hiddenlayer=EH*hiddengrad\n",
    "    wout+=hlayer_act.T.dot(d_output)*ir\n",
    "    wh+=X.T.dot(d_hiddenlayer)*ir\n",
    "    print(\"-----EPOCH--\",i+1,\"starts--\")\n",
    "    print(\"input:\\n\",str(X))\n",
    "    print(\"actual output:\\n\",str(y))\n",
    "    print(\"predicted output:\\n\",output)\n",
    "    print(\"EPOCH_\",i+1,\"ends---\")\n",
    "print(\"input:\\n\",str(X))\n",
    "print(\"actual output:\\n\",str(y))\n",
    "print(\"predicted output:\\n\",output)"
   ]
  },
  {
   "cell_type": "code",
   "execution_count": null,
   "id": "f7b629c7",
   "metadata": {},
   "outputs": [],
   "source": []
  }
 ],
 "metadata": {
  "kernelspec": {
   "display_name": "Python 3 (ipykernel)",
   "language": "python",
   "name": "python3"
  },
  "language_info": {
   "codemirror_mode": {
    "name": "ipython",
    "version": 3
   },
   "file_extension": ".py",
   "mimetype": "text/x-python",
   "name": "python",
   "nbconvert_exporter": "python",
   "pygments_lexer": "ipython3",
   "version": "3.11.5"
  }
 },
 "nbformat": 4,
 "nbformat_minor": 5
}
