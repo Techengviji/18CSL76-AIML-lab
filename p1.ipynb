{
 "cells": [
  {
   "cell_type": "code",
   "execution_count": 1,
   "id": "c6b1ec8d",
   "metadata": {},
   "outputs": [
    {
     "name": "stdout",
     "output_type": "stream",
     "text": [
      "\n",
      " Instances are:\n",
      " [['sunny' 'warm' 'normal' 'strong' 'warm' 'same']\n",
      " ['sunny' 'warm' 'high' 'strong' 'warm' 'same']\n",
      " ['rainy' 'cold' 'high' 'strong' 'warm' 'change']\n",
      " ['sunny' 'warm' 'high' 'strong' 'cool' 'change']]\n",
      "target values are: ['yes' 'yes' 'no' 'yes']\n",
      "\n",
      " intialize of specific_h and general_h\n",
      "\n",
      " specific boundary: ['sunny' 'warm' 'normal' 'strong' 'warm' 'same']\n",
      "\n",
      " generic boundary: [['?', '?', '?', '?', '?', '?'], ['?', '?', '?', '?', '?', '?'], ['?', '?', '?', '?', '?', '?'], ['?', '?', '?', '?', '?', '?'], ['?', '?', '?', '?', '?', '?'], ['?', '?', '?', '?', '?', '?']]\n",
      "instance 1 is ['sunny' 'warm' 'normal' 'strong' 'warm' 'same']\n",
      "instance is positive\n",
      "specific boundary after 1 instance is ['sunny' 'warm' 'normal' 'strong' 'warm' 'same']\n",
      "generic bundary after 1 instance is [['?', '?', '?', '?', '?', '?'], ['?', '?', '?', '?', '?', '?'], ['?', '?', '?', '?', '?', '?'], ['?', '?', '?', '?', '?', '?'], ['?', '?', '?', '?', '?', '?'], ['?', '?', '?', '?', '?', '?']]\n",
      "\n",
      "\n",
      "instance 2 is ['sunny' 'warm' 'high' 'strong' 'warm' 'same']\n",
      "instance is positive\n",
      "specific boundary after 2 instance is ['sunny' 'warm' '?' 'strong' 'warm' 'same']\n",
      "generic bundary after 2 instance is [['?', '?', '?', '?', '?', '?'], ['?', '?', '?', '?', '?', '?'], ['?', '?', '?', '?', '?', '?'], ['?', '?', '?', '?', '?', '?'], ['?', '?', '?', '?', '?', '?'], ['?', '?', '?', '?', '?', '?']]\n",
      "\n",
      "\n",
      "instance 3 is ['rainy' 'cold' 'high' 'strong' 'warm' 'change']\n",
      "instance is negetive\n",
      "specific boundary after 3 instance is ['sunny' 'warm' '?' 'strong' 'warm' 'same']\n",
      "generic bundary after 3 instance is [['sunny', '?', '?', '?', '?', '?'], ['?', 'warm', '?', '?', '?', '?'], ['?', '?', '?', '?', '?', '?'], ['?', '?', '?', '?', '?', '?'], ['?', '?', '?', '?', '?', '?'], ['?', '?', '?', '?', '?', 'same']]\n",
      "\n",
      "\n",
      "instance 4 is ['sunny' 'warm' 'high' 'strong' 'cool' 'change']\n",
      "instance is positive\n",
      "specific boundary after 4 instance is ['sunny' 'warm' '?' 'strong' '?' '?']\n",
      "generic bundary after 4 instance is [['sunny', '?', '?', '?', '?', '?'], ['?', 'warm', '?', '?', '?', '?'], ['?', '?', '?', '?', '?', '?'], ['?', '?', '?', '?', '?', '?'], ['?', '?', '?', '?', '?', '?'], ['?', '?', '?', '?', '?', '?']]\n",
      "\n",
      "\n",
      "final speefic_h:\n",
      "['sunny' 'warm' '?' 'strong' '?' '?']\n",
      "final general_h:\n",
      "[['sunny', '?', '?', '?', '?', '?'], ['?', 'warm', '?', '?', '?', '?']]\n"
     ]
    }
   ],
   "source": [
    "import numpy as np\n",
    "import pandas as pd\n",
    "data= pd.read_csv(\"enjoysport.csv\")\n",
    "concepts=np.array(data.iloc[:,0:-1])\n",
    "print(\"\\n Instances are:\\n\",concepts)\n",
    "target=np.array(data.iloc[:,-1])\n",
    "print(\"target values are:\",target)\n",
    "def learn(concepts,target):\n",
    "    specific_h=concepts[0].copy()\n",
    "    print(\"\\n intialize of specific_h and general_h\")\n",
    "    print(\"\\n specific boundary:\",specific_h)\n",
    "    general_h=[[\"?\" for i in range(len(specific_h))]for i in range(len(specific_h))]\n",
    "    print(\"\\n generic boundary:\",general_h)\n",
    "    for i, h in enumerate (concepts):\n",
    "        print(\"instance\",i+1,\"is\",h)\n",
    "        if target[i]==\"yes\":\n",
    "            print(\"instance is positive\")\n",
    "            for x in range(len(specific_h)):\n",
    "                if h[x]!=specific_h[x]:\n",
    "                    specific_h[x]='?'\n",
    "                    general_h[x][x]='?'\n",
    "        if target[i]==\"no\":\n",
    "            print(\"instance is negetive\")\n",
    "            for x in range(len(specific_h)):\n",
    "                if h[x]!=specific_h[x]:\n",
    "                    general_h[x][x]=specific_h[x]\n",
    "                else:\n",
    "                    general_h[x][x]=\"?\"\n",
    "        print(\"specific boundary after\",i+1,\"instance is\",specific_h)\n",
    "        print(\"generic bundary after\",i+1,\"instance is\", general_h)\n",
    "        print(\"\\n\")\n",
    "    indices=[i for i, val in enumerate(general_h) if val==['?','?',\"?\",\"?\",\"?\",\"?\"]]\n",
    "    for i in indices:\n",
    "        general_h.remove([\"?\",\"?\",\"?\",\"?\",\"?\",\"?\"])\n",
    "    return specific_h,general_h\n",
    "s_final,g_final=learn(concepts,target)\n",
    "print(\"final speefic_h:\",s_final,sep=\"\\n\")\n",
    "print(\"final general_h:\",g_final,sep=\"\\n\")"
   ]
  },
  {
   "cell_type": "code",
   "execution_count": null,
   "id": "815fd8f0",
   "metadata": {},
   "outputs": [],
   "source": []
  }
 ],
 "metadata": {
  "kernelspec": {
   "display_name": "Python 3 (ipykernel)",
   "language": "python",
   "name": "python3"
  },
  "language_info": {
   "codemirror_mode": {
    "name": "ipython",
    "version": 3
   },
   "file_extension": ".py",
   "mimetype": "text/x-python",
   "name": "python",
   "nbconvert_exporter": "python",
   "pygments_lexer": "ipython3",
   "version": "3.11.5"
  }
 },
 "nbformat": 4,
 "nbformat_minor": 5
}
