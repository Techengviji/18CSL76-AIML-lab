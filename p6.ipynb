{
 "cells": [
  {
   "cell_type": "code",
   "execution_count": 3,
   "id": "3bf0606c",
   "metadata": {},
   "outputs": [
    {
     "name": "stdout",
     "output_type": "stream",
     "text": [
      "   sepal-length  sepal-width  petal-length  petal-width\n",
      "0           5.1          3.5           1.4          0.2\n",
      "1           4.9          3.0           1.4          0.2\n",
      "2           4.7          3.2           1.3          0.2\n",
      "3           4.6          3.1           1.5          0.2\n",
      "4           5.0          3.6           1.4          0.2\n",
      "\n",
      " \n",
      "Original Label            Predicted Label           Correct/Wrong            \n",
      " -----------\n",
      "Virginica                 Virginica                 Correct                  \n",
      "Setosa                    Setosa                    Correct                  \n",
      "Versicolor                Virginica                 Wrong                    \n",
      "Setosa                    Setosa                    Correct                  \n",
      "Setosa                    Setosa                    Correct                  \n",
      "Virginica                 Virginica                 Correct                  \n",
      "Virginica                 Virginica                 Correct                  \n",
      "Setosa                    Setosa                    Correct                  \n",
      "Versicolor                Versicolor                Correct                  \n",
      "Setosa                    Setosa                    Correct                  \n",
      "Virginica                 Virginica                 Correct                  \n",
      "Virginica                 Virginica                 Correct                  \n",
      "Versicolor                Versicolor                Correct                  \n",
      "Setosa                    Setosa                    Correct                  \n",
      "Versicolor                Versicolor                Correct                  \n",
      " --------\n",
      "\n",
      "Confusion Matrix:\n",
      " [[6 0 0]\n",
      " [0 3 1]\n",
      " [0 0 5]]\n",
      " \n",
      "\n",
      "Classification Report:\n",
      "               precision    recall  f1-score   support\n",
      "\n",
      "      Setosa       1.00      1.00      1.00         6\n",
      "  Versicolor       1.00      0.75      0.86         4\n",
      "   Virginica       0.83      1.00      0.91         5\n",
      "\n",
      "    accuracy                           0.93        15\n",
      "   macro avg       0.94      0.92      0.92        15\n",
      "weighted avg       0.94      0.93      0.93        15\n",
      "\n",
      " \n",
      "Accuracy of the classifer is 0.93\n",
      " ------\n"
     ]
    }
   ],
   "source": [
    "import numpy as np\n",
    "import pandas as pd\n",
    "from sklearn.neighbors import KNeighborsClassifier\n",
    "from sklearn.model_selection import train_test_split\n",
    "from sklearn import metrics\n",
    "names = ['sepal-length', 'sepal-width', 'petal-length', 'petal-width', 'Class']\n",
    "dataset = pd.read_csv(\"iris.csv\", names=names)\n",
    "X = dataset.iloc[:, :-1]\n",
    "y = dataset.iloc[:, -1]\n",
    "print(X.head())\n",
    "Xtrain, Xtest, ytrain, ytest = train_test_split(X, y, test_size=0.10)\n",
    "classifier = KNeighborsClassifier(n_neighbors=5).fit(Xtrain, ytrain)\n",
    "ypred = classifier.predict(Xtest)\n",
    "i = 0\n",
    "print (\"\\n \")\n",
    "print ('%-25s %-25s %-25s' % ('Original Label', 'Predicted Label', 'Correct/Wrong'))\n",
    "print (\" -----------\")\n",
    "for label in ytest:\n",
    "    print ('%-25s %-25s' % (label, ypred[i]), end=\"\")\n",
    "    if (label == ypred[i]):\n",
    "        print (' %-25s' % ('Correct'))\n",
    "    else:\n",
    "        print (' %-25s' % ('Wrong'))\n",
    "    i = i + 1\n",
    "print (\" --------\")\n",
    "print(\"\\nConfusion Matrix:\\n\",metrics.confusion_matrix(ytest, ypred))\n",
    "print (\" \")\n",
    "print(\"\\nClassification Report:\\n\",metrics.classification_report(ytest, ypred))\n",
    "print (\" \")\n",
    "print('Accuracy of the classifer is %0.2f' % metrics.accuracy_score(ytest,ypred))\n",
    "print (\" ------\")\n"
   ]
  }
 ],
 "metadata": {
  "kernelspec": {
   "display_name": "Python 3 (ipykernel)",
   "language": "python",
   "name": "python3"
  },
  "language_info": {
   "codemirror_mode": {
    "name": "ipython",
    "version": 3
   },
   "file_extension": ".py",
   "mimetype": "text/x-python",
   "name": "python",
   "nbconvert_exporter": "python",
   "pygments_lexer": "ipython3",
   "version": "3.11.5"
  }
 },
 "nbformat": 4,
 "nbformat_minor": 5
}
